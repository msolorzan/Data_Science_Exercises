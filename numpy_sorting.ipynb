{
 "cells": [
  {
   "cell_type": "code",
   "execution_count": 1,
   "metadata": {},
   "outputs": [],
   "source": [
    "import numpy as np"
   ]
  },
  {
   "cell_type": "code",
   "execution_count": 2,
   "metadata": {},
   "outputs": [],
   "source": [
    "arr = np.random.randn(6)"
   ]
  },
  {
   "cell_type": "code",
   "execution_count": 3,
   "metadata": {},
   "outputs": [
    {
     "data": {
      "text/plain": [
       "array([-0.0944648 ,  0.60200819, -0.81130978,  1.22110756,  0.29434164,\n",
       "        0.73584278])"
      ]
     },
     "execution_count": 3,
     "metadata": {},
     "output_type": "execute_result"
    }
   ],
   "source": [
    "arr"
   ]
  },
  {
   "cell_type": "code",
   "execution_count": 4,
   "metadata": {},
   "outputs": [],
   "source": [
    "arr.sort()"
   ]
  },
  {
   "cell_type": "code",
   "execution_count": 5,
   "metadata": {},
   "outputs": [
    {
     "data": {
      "text/plain": [
       "array([-0.81130978, -0.0944648 ,  0.29434164,  0.60200819,  0.73584278,\n",
       "        1.22110756])"
      ]
     },
     "execution_count": 5,
     "metadata": {},
     "output_type": "execute_result"
    }
   ],
   "source": [
    "arr"
   ]
  },
  {
   "cell_type": "code",
   "execution_count": 6,
   "metadata": {},
   "outputs": [
    {
     "data": {
      "text/plain": [
       "array([[-0.70132927,  1.47686954, -0.73649658],\n",
       "       [-1.48717066, -1.43289107,  0.39712996],\n",
       "       [ 0.25128094, -1.70091034, -1.39843878],\n",
       "       [-0.27508717, -0.32256306, -0.94824282],\n",
       "       [ 2.53044149,  0.04461153,  0.1689514 ]])"
      ]
     },
     "execution_count": 6,
     "metadata": {},
     "output_type": "execute_result"
    }
   ],
   "source": [
    "arr = np.random.randn(5, 3)\n",
    "arr"
   ]
  },
  {
   "cell_type": "code",
   "execution_count": 7,
   "metadata": {},
   "outputs": [
    {
     "data": {
      "text/plain": [
       "array([[-0.73649658, -0.70132927,  1.47686954],\n",
       "       [-1.48717066, -1.43289107,  0.39712996],\n",
       "       [-1.70091034, -1.39843878,  0.25128094],\n",
       "       [-0.94824282, -0.32256306, -0.27508717],\n",
       "       [ 0.04461153,  0.1689514 ,  2.53044149]])"
      ]
     },
     "execution_count": 7,
     "metadata": {},
     "output_type": "execute_result"
    }
   ],
   "source": [
    "arr.sort(1)\n",
    "arr"
   ]
  },
  {
   "cell_type": "code",
   "execution_count": 8,
   "metadata": {},
   "outputs": [
    {
     "data": {
      "text/plain": [
       "array([[-1.70091034, -1.43289107, -0.27508717],\n",
       "       [-1.48717066, -1.39843878,  0.25128094],\n",
       "       [-0.94824282, -0.70132927,  0.39712996],\n",
       "       [-0.73649658, -0.32256306,  1.47686954],\n",
       "       [ 0.04461153,  0.1689514 ,  2.53044149]])"
      ]
     },
     "execution_count": 8,
     "metadata": {},
     "output_type": "execute_result"
    }
   ],
   "source": [
    "arr.sort(0)\n",
    "arr"
   ]
  },
  {
   "cell_type": "code",
   "execution_count": 10,
   "metadata": {},
   "outputs": [],
   "source": [
    "large_arr = np.random.randn(1000)\n",
    "large_arr.sort()"
   ]
  },
  {
   "cell_type": "code",
   "execution_count": 13,
   "metadata": {},
   "outputs": [],
   "source": [
    "quantile = [0.05, 0.1, 0.5, 0.75, 0.8, 0.9, 0.99]"
   ]
  },
  {
   "cell_type": "code",
   "execution_count": 14,
   "metadata": {},
   "outputs": [
    {
     "name": "stdout",
     "output_type": "stream",
     "text": [
      "-1.5777300785842105\n",
      "-1.2831946619085002\n",
      "0.0030926174509195914\n",
      "0.688099819543523\n",
      "0.8225394474904949\n",
      "1.231937182094891\n",
      "2.2981173222136753\n"
     ]
    }
   ],
   "source": [
    "for i in quantile:\n",
    "    print(large_arr[int(i * len(large_arr))])"
   ]
  },
  {
   "cell_type": "code",
   "execution_count": null,
   "metadata": {},
   "outputs": [],
   "source": []
  }
 ],
 "metadata": {
  "kernelspec": {
   "display_name": "Python 3.9.7 ('base')",
   "language": "python",
   "name": "python3"
  },
  "language_info": {
   "codemirror_mode": {
    "name": "ipython",
    "version": 3
   },
   "file_extension": ".py",
   "mimetype": "text/x-python",
   "name": "python",
   "nbconvert_exporter": "python",
   "pygments_lexer": "ipython3",
   "version": "3.9.7"
  },
  "orig_nbformat": 4,
  "vscode": {
   "interpreter": {
    "hash": "19d1d53a962d236aa061289c2ac16dc8e6d9648c89fe79f459ae9a3493bc67b4"
   }
  }
 },
 "nbformat": 4,
 "nbformat_minor": 2
}
