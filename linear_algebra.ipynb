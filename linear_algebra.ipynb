{
 "cells": [
  {
   "cell_type": "code",
   "execution_count": 1,
   "metadata": {},
   "outputs": [],
   "source": [
    "import numpy as np"
   ]
  },
  {
   "cell_type": "code",
   "execution_count": 3,
   "metadata": {},
   "outputs": [],
   "source": [
    "x = np.array([[1., 2., 3.], [4., 5., 6.]])"
   ]
  },
  {
   "cell_type": "code",
   "execution_count": 4,
   "metadata": {},
   "outputs": [],
   "source": [
    "y = np.array([[6., 23.], [-1, 7], [8, 9]])"
   ]
  },
  {
   "cell_type": "code",
   "execution_count": 5,
   "metadata": {},
   "outputs": [
    {
     "data": {
      "text/plain": [
       "array([[1., 2., 3.],\n",
       "       [4., 5., 6.]])"
      ]
     },
     "execution_count": 5,
     "metadata": {},
     "output_type": "execute_result"
    }
   ],
   "source": [
    "x"
   ]
  },
  {
   "cell_type": "code",
   "execution_count": 6,
   "metadata": {},
   "outputs": [
    {
     "data": {
      "text/plain": [
       "array([[ 6., 23.],\n",
       "       [-1.,  7.],\n",
       "       [ 8.,  9.]])"
      ]
     },
     "execution_count": 6,
     "metadata": {},
     "output_type": "execute_result"
    }
   ],
   "source": [
    "y"
   ]
  },
  {
   "cell_type": "code",
   "execution_count": 7,
   "metadata": {},
   "outputs": [
    {
     "data": {
      "text/plain": [
       "array([[ 28.,  64.],\n",
       "       [ 67., 181.]])"
      ]
     },
     "execution_count": 7,
     "metadata": {},
     "output_type": "execute_result"
    }
   ],
   "source": [
    "x.dot(y)"
   ]
  },
  {
   "cell_type": "code",
   "execution_count": 8,
   "metadata": {},
   "outputs": [
    {
     "data": {
      "text/plain": [
       "array([[ 28.,  64.],\n",
       "       [ 67., 181.]])"
      ]
     },
     "execution_count": 8,
     "metadata": {},
     "output_type": "execute_result"
    }
   ],
   "source": [
    "np.dot(x, y)"
   ]
  },
  {
   "cell_type": "code",
   "execution_count": 9,
   "metadata": {},
   "outputs": [
    {
     "data": {
      "text/plain": [
       "array([ 6., 15.])"
      ]
     },
     "execution_count": 9,
     "metadata": {},
     "output_type": "execute_result"
    }
   ],
   "source": [
    "np.dot(x, np.ones(3))"
   ]
  },
  {
   "cell_type": "code",
   "execution_count": 10,
   "metadata": {},
   "outputs": [
    {
     "data": {
      "text/plain": [
       "array([[ 28.,  64.],\n",
       "       [ 67., 181.]])"
      ]
     },
     "execution_count": 10,
     "metadata": {},
     "output_type": "execute_result"
    }
   ],
   "source": [
    "x @ y"
   ]
  },
  {
   "cell_type": "code",
   "execution_count": 11,
   "metadata": {},
   "outputs": [
    {
     "data": {
      "text/plain": [
       "array([ 6., 15.])"
      ]
     },
     "execution_count": 11,
     "metadata": {},
     "output_type": "execute_result"
    }
   ],
   "source": [
    "x @ np.ones(3)"
   ]
  },
  {
   "cell_type": "code",
   "execution_count": 12,
   "metadata": {},
   "outputs": [],
   "source": [
    "from numpy.linalg import inv, qr"
   ]
  },
  {
   "cell_type": "code",
   "execution_count": 13,
   "metadata": {},
   "outputs": [],
   "source": [
    "X = np.random.random([5, 5])"
   ]
  },
  {
   "cell_type": "code",
   "execution_count": 15,
   "metadata": {},
   "outputs": [
    {
     "data": {
      "text/plain": [
       "array([[0.60286898, 0.87942141, 0.76077833, 0.41724964, 0.60574231],\n",
       "       [0.04158758, 0.15229948, 0.20413629, 0.82682024, 0.90429157],\n",
       "       [0.23363135, 0.57653437, 0.69042101, 0.33212403, 0.12284291],\n",
       "       [0.42522946, 0.45831498, 0.15610019, 0.37088615, 0.49219667],\n",
       "       [0.76108201, 0.35915194, 0.17657947, 0.36888258, 0.26757347]])"
      ]
     },
     "execution_count": 15,
     "metadata": {},
     "output_type": "execute_result"
    }
   ],
   "source": [
    "X"
   ]
  },
  {
   "cell_type": "code",
   "execution_count": 16,
   "metadata": {},
   "outputs": [],
   "source": [
    "mat = X.T.dot(X)"
   ]
  },
  {
   "cell_type": "code",
   "execution_count": 17,
   "metadata": {},
   "outputs": [
    {
     "data": {
      "text/plain": [
       "array([[ 11.1000491 , -21.72336384,  16.17734967, -10.91221873,\n",
       "          9.46586976],\n",
       "       [-21.72336384,  51.42404157, -40.55571926,  24.85648152,\n",
       "        -22.8200344 ],\n",
       "       [ 16.17734967, -40.55571926,  34.20658433, -21.26709828,\n",
       "         18.72936036],\n",
       "       [-10.91221873,  24.85648152, -21.26709828,  25.70421839,\n",
       "        -21.82225665],\n",
       "       [  9.46586976, -22.8200344 ,  18.72936036, -21.82225665,\n",
       "         19.90034411]])"
      ]
     },
     "execution_count": 17,
     "metadata": {},
     "output_type": "execute_result"
    }
   ],
   "source": [
    "inv(mat)"
   ]
  },
  {
   "cell_type": "code",
   "execution_count": 19,
   "metadata": {},
   "outputs": [
    {
     "data": {
      "text/plain": [
       "array([[ 1.00000000e+00,  5.55111512e-17, -2.22044605e-16,\n",
       "        -8.88178420e-16,  2.22044605e-16],\n",
       "       [-4.44089210e-16,  1.00000000e+00,  4.44089210e-16,\n",
       "         0.00000000e+00,  5.55111512e-17],\n",
       "       [-5.55111512e-17,  1.52655666e-16,  1.00000000e+00,\n",
       "        -3.88578059e-16,  1.38777878e-17],\n",
       "       [ 0.00000000e+00,  1.11022302e-16, -2.22044605e-16,\n",
       "         1.00000000e+00, -2.77555756e-17],\n",
       "       [ 0.00000000e+00, -5.55111512e-17, -1.11022302e-16,\n",
       "        -1.11022302e-16,  1.00000000e+00]])"
      ]
     },
     "execution_count": 19,
     "metadata": {},
     "output_type": "execute_result"
    }
   ],
   "source": [
    "X.dot(inv(X))"
   ]
  },
  {
   "cell_type": "code",
   "execution_count": 27,
   "metadata": {},
   "outputs": [
    {
     "data": {
      "text/plain": [
       "array([[ 1.00000000e+00,  0.00000000e+00, -1.77635684e-15,\n",
       "         0.00000000e+00,  0.00000000e+00],\n",
       "       [ 0.00000000e+00,  1.00000000e+00,  3.55271368e-15,\n",
       "         0.00000000e+00,  7.10542736e-15],\n",
       "       [ 0.00000000e+00, -3.55271368e-15,  1.00000000e+00,\n",
       "        -3.55271368e-15,  0.00000000e+00],\n",
       "       [-1.77635684e-15, -3.55271368e-15, -3.55271368e-15,\n",
       "         1.00000000e+00,  0.00000000e+00],\n",
       "       [-1.77635684e-15,  0.00000000e+00,  0.00000000e+00,\n",
       "         7.10542736e-15,  1.00000000e+00]])"
      ]
     },
     "execution_count": 27,
     "metadata": {},
     "output_type": "execute_result"
    }
   ],
   "source": [
    "mat.dot(inv(mat))"
   ]
  },
  {
   "cell_type": "code",
   "execution_count": 28,
   "metadata": {},
   "outputs": [],
   "source": [
    "q, r = qr(mat)"
   ]
  },
  {
   "cell_type": "code",
   "execution_count": 29,
   "metadata": {},
   "outputs": [
    {
     "data": {
      "text/plain": [
       "array([[-2.17581405, -2.63284482, -2.17536187, -2.24215545, -2.41500808],\n",
       "       [ 0.        , -0.38180889, -0.48385555, -0.3255062 , -0.3447968 ],\n",
       "       [ 0.        ,  0.        , -0.06054613,  0.25537653,  0.37191825],\n",
       "       [ 0.        ,  0.        ,  0.        , -0.64220219, -0.722996  ],\n",
       "       [ 0.        ,  0.        ,  0.        ,  0.        ,  0.02335467]])"
      ]
     },
     "execution_count": 29,
     "metadata": {},
     "output_type": "execute_result"
    }
   ],
   "source": [
    "r"
   ]
  },
  {
   "cell_type": "code",
   "execution_count": 30,
   "metadata": {},
   "outputs": [
    {
     "data": {
      "text/plain": [
       "array([[-0.54224766,  0.75486629, -0.24567079,  0.16406485,  0.22107226],\n",
       "       [-0.52368412, -0.23371046,  0.31606666,  0.53590658, -0.53295437],\n",
       "       [-0.38110474, -0.60176264, -0.5364032 ,  0.11652459,  0.43741803],\n",
       "       [-0.3685924 , -0.04286034, -0.26420085, -0.72990122, -0.5096516 ],\n",
       "       [-0.38809952, -0.10770803,  0.69441864, -0.37356805,  0.46476597]])"
      ]
     },
     "execution_count": 30,
     "metadata": {},
     "output_type": "execute_result"
    }
   ],
   "source": [
    "q"
   ]
  },
  {
   "cell_type": "markdown",
   "metadata": {},
   "source": [
    "<img src = '../Python/factori_qr.png'>"
   ]
  },
  {
   "cell_type": "markdown",
   "metadata": {},
   "source": []
  }
 ],
 "metadata": {
  "kernelspec": {
   "display_name": "Python 3.9.7 ('base')",
   "language": "python",
   "name": "python3"
  },
  "language_info": {
   "codemirror_mode": {
    "name": "ipython",
    "version": 3
   },
   "file_extension": ".py",
   "mimetype": "text/x-python",
   "name": "python",
   "nbconvert_exporter": "python",
   "pygments_lexer": "ipython3",
   "version": "3.9.7"
  },
  "orig_nbformat": 4,
  "vscode": {
   "interpreter": {
    "hash": "19d1d53a962d236aa061289c2ac16dc8e6d9648c89fe79f459ae9a3493bc67b4"
   }
  }
 },
 "nbformat": 4,
 "nbformat_minor": 2
}
